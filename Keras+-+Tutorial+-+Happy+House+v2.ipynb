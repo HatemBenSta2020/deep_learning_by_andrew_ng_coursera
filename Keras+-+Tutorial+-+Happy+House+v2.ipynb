{
 "cells": [
  {
   "cell_type": "markdown",
   "metadata": {},
   "source": [
    "# Keras tutorial - the Happy House\n",
    "\n",
    "Welcome to the first assignment of week 2. In this assignment, you will:\n",
    "1. Learn to use Keras, a high-level neural networks API (programming framework), written in Python and capable of running on top of several lower-level frameworks including TensorFlow and CNTK. \n",
    "2. See how you can in a couple of hours build a deep learning algorithm.\n",
    "\n",
    "Why are we using Keras? Keras was developed to enable deep learning engineers to build and experiment with different models very quickly. Just as TensorFlow is a higher-level framework than Python, Keras is an even higher-level framework and provides additional abstractions. Being able to go from idea to result with the least possible delay is key to finding good models. However, Keras is more restrictive than the lower-level frameworks, so there are some very complex models that you can implement in TensorFlow but not (without more difficulty) in Keras. That being said, Keras will work fine for many common models. \n",
    "\n",
    "In this exercise, you'll work on the \"Happy House\" problem, which we'll explain below. Let's load the required packages and solve the problem of the Happy House!"
   ]
  },
  {
   "cell_type": "code",
   "execution_count": 3,
   "metadata": {},
   "outputs": [
    {
     "name": "stdout",
     "output_type": "stream",
     "text": [
      "end3....\n"
     ]
    }
   ],
   "source": [
    "import numpy as np\n",
    "from keras import layers\n",
    "from keras.layers import Input, Dense, Activation, ZeroPadding2D, BatchNormalization, Flatten, Conv2D\n",
    "from keras.layers import AveragePooling2D, MaxPooling2D, Dropout, GlobalMaxPooling2D, GlobalAveragePooling2D\n",
    "from keras.models import Model\n",
    "from keras.preprocessing import image\n",
    "from keras.utils import layer_utils\n",
    "from keras.utils.data_utils import get_file\n",
    "from keras.applications.imagenet_utils import preprocess_input\n",
    "import pydot\n",
    "from IPython.display import SVG\n",
    "from keras.utils.vis_utils import model_to_dot\n",
    "from keras.utils import plot_model\n",
    "from kt_utils import *\n",
    "\n",
    "import keras.backend as K\n",
    "K.set_image_data_format('channels_last')\n",
    "import matplotlib.pyplot as plt\n",
    "from matplotlib.pyplot import imshow\n",
    "\n",
    "%matplotlib inline\n",
    "print(\"end3....\")"
   ]
  },
  {
   "cell_type": "markdown",
   "metadata": {},
   "source": [
    "**Note**: As you can see, we've imported a lot of functions from Keras. You can use them easily just by calling them directly in the notebook. Ex: `X = Input(...)` or `X = ZeroPadding2D(...)`."
   ]
  },
  {
   "cell_type": "markdown",
   "metadata": {},
   "source": [
    "## 1 - The Happy House \n",
    "\n",
    "For your next vacation, you decided to spend a week with five of your friends from school. It is a very convenient house with many things to do nearby. But the most important benefit is that everybody has commited to be happy when they are in the house. So anyone wanting to enter the house must prove their current state of happiness.\n",
    "\n",
    "<img src=\"images/happy-house.jpg\" style=\"width:350px;height:270px;\">\n",
    "<caption><center> <u> <font color='purple'> **Figure 1** </u><font color='purple'>  : **the Happy House**</center></caption>\n",
    "\n",
    "\n",
    "As a deep learning expert, to make sure the \"Happy\" rule is strictly applied, you are going to build an algorithm which that uses pictures from the front door camera to check if the person is happy or not. The door should open only if the person is happy. \n",
    "\n",
    "You have gathered pictures of your friends and yourself, taken by the front-door camera. The dataset is labbeled. \n",
    "\n",
    "<img src=\"images/house-members.png\" style=\"width:550px;height:250px;\">\n",
    "\n",
    "Run the following code to normalize the dataset and learn about its shapes."
   ]
  },
  {
   "cell_type": "code",
   "execution_count": 4,
   "metadata": {},
   "outputs": [
    {
     "name": "stdout",
     "output_type": "stream",
     "text": [
      "number of training examples = 600\n",
      "number of test examples = 150\n",
      "X_train shape: (600, 64, 64, 3)\n",
      "Y_train shape: (600, 1)\n",
      "X_test shape: (150, 64, 64, 3)\n",
      "Y_test shape: (150, 1)\n"
     ]
    }
   ],
   "source": [
    "X_train_orig, Y_train_orig, X_test_orig, Y_test_orig, classes = load_dataset()\n",
    "\n",
    "# Normalize image vectors\n",
    "X_train = X_train_orig/255.\n",
    "X_test = X_test_orig/255.\n",
    "\n",
    "# Reshape\n",
    "Y_train = Y_train_orig.T\n",
    "Y_test = Y_test_orig.T\n",
    "\n",
    "print (\"number of training examples = \" + str(X_train.shape[0]))\n",
    "print (\"number of test examples = \" + str(X_test.shape[0]))\n",
    "print (\"X_train shape: \" + str(X_train.shape))\n",
    "print (\"Y_train shape: \" + str(Y_train.shape))\n",
    "print (\"X_test shape: \" + str(X_test.shape))\n",
    "print (\"Y_test shape: \" + str(Y_test.shape))"
   ]
  },
  {
   "cell_type": "markdown",
   "metadata": {},
   "source": [
    "**Details of the \"Happy\" dataset**:\n",
    "- Images are of shape (64,64,3)\n",
    "- Training: 600 pictures\n",
    "- Test: 150 pictures\n",
    "\n",
    "It is now time to solve the \"Happy\" Challenge."
   ]
  },
  {
   "cell_type": "markdown",
   "metadata": {},
   "source": [
    "## 2 - Building a model in Keras\n",
    "\n",
    "Keras is very good for rapid prototyping. In just a short time you will be able to build a model that achieves outstanding results.\n",
    "\n",
    "Here is an example of a model in Keras:\n",
    "\n",
    "```python\n",
    "def model(input_shape):\n",
    "    # Define the input placeholder as a tensor with shape input_shape. Think of this as your input image!\n",
    "    X_input = Input(input_shape)\n",
    "\n",
    "    # Zero-Padding: pads the border of X_input with zeroes\n",
    "    X = ZeroPadding2D((3, 3))(X_input)\n",
    "\n",
    "    # CONV -> BN -> RELU Block applied to X\n",
    "    X = Conv2D(32, (7, 7), strides = (1, 1), name = 'conv0')(X)\n",
    "    X = BatchNormalization(axis = 3, name = 'bn0')(X)\n",
    "    X = Activation('relu')(X)\n",
    "\n",
    "    # MAXPOOL\n",
    "    X = MaxPooling2D((2, 2), name='max_pool')(X)\n",
    "\n",
    "    # FLATTEN X (means convert it to a vector) + FULLYCONNECTED\n",
    "    X = Flatten()(X)\n",
    "    X = Dense(1, activation='sigmoid', name='fc')(X)\n",
    "\n",
    "    # Create model. This creates your Keras model instance, you'll use this instance to train/test the model.\n",
    "    model = Model(inputs = X_input, outputs = X, name='HappyModel')\n",
    "    \n",
    "    return model\n",
    "```\n",
    "\n",
    "Note that Keras uses a different convention with variable names than we've previously used with numpy and TensorFlow. In particular, rather than creating and assigning a new variable on each step of forward propagation such as `X`, `Z1`, `A1`, `Z2`, `A2`, etc. for the computations for the different layers, in Keras code each line above just reassigns `X` to a new value using `X = ...`. In other words, during each step of forward propagation, we are just writing the latest value in the commputation into the same variable `X`. The only exception was `X_input`, which we kept separate and did not overwrite, since we needed it at the end to create the Keras model instance (`model = Model(inputs = X_input, ...)` above). \n",
    "\n",
    "**Exercise**: Implement a `HappyModel()`. This assignment is more open-ended than most. We suggest that you start by implementing a model using the architecture we suggest, and run through the rest of this assignment using that as your initial model. But after that, come back and take initiative to try out other model architectures. For example, you might take inspiration from the model above, but then vary the network architecture and hyperparameters however you wish. You can also use other functions such as `AveragePooling2D()`, `GlobalMaxPooling2D()`, `Dropout()`. \n",
    "\n",
    "**Note**: You have to be careful with your data's shapes. Use what you've learned in the videos to make sure your convolutional, pooling and fully-connected layers are adapted to the volumes you're applying it to."
   ]
  },
  {
   "cell_type": "code",
   "execution_count": 19,
   "metadata": {
    "collapsed": true
   },
   "outputs": [],
   "source": [
    "# GRADED FUNCTION: HappyModel\n",
    "\n",
    "def HappyModel(input_shape):\n",
    "    \"\"\"\n",
    "    Implementation of the HappyModel.\n",
    "    \n",
    "    Arguments:\n",
    "    input_shape -- shape of the images of the dataset\n",
    "\n",
    "    Returns:\n",
    "    model -- a Model() instance in Keras\n",
    "    \"\"\"\n",
    "    \n",
    "    ### START CODE HERE ###\n",
    "    # Feel free to use the suggested outline in the text above to get started, and run through the whole\n",
    "    # exercise (including the later portions of this notebook) once. The come back also try out other\n",
    "    # network architectures as well. \n",
    "    #1.define the input placeholder\n",
    "    X_input=Input(input_shape)\n",
    "    #2.zero-padding. pads the border of X_input with zeros\n",
    "    X=ZeroPadding2D((3,3))(X_input)\n",
    "    \n",
    "    #3.CONV-->BN-->RELU Block applied to X\n",
    "    X=Conv2D(32,(7,7),strides=(1,1),name=\"conv0\")(X)\n",
    "    X=BatchNormalization(axis=3,name='bn0')(X)\n",
    "    X=Activation('relu')(X)\n",
    "    \n",
    "    #4.MAXPOOL\n",
    "    X=MaxPooling2D((2,2),name='max_pool')(X)\n",
    "    \n",
    "    #5.FLATTEN-->FC X\n",
    "    X=Flatten()(X)\n",
    "    X=Dense(1,activation='sigmoid',name='fc')(X)\n",
    "    \n",
    "    #6.Create model.\n",
    "    model=Model(inputs=X_input, outputs=X,name='HappyModel')\n",
    "    \n",
    "    \n",
    "    \n",
    "    ### END CODE HERE ###\n",
    "    \n",
    "    return model"
   ]
  },
  {
   "cell_type": "markdown",
   "metadata": {},
   "source": [
    "You have now built a function to describe your model. To train and test this model, there are four steps in Keras:\n",
    "1. Create the model by calling the function above\n",
    "2. Compile the model by calling `model.compile(optimizer = \"...\", loss = \"...\", metrics = [\"accuracy\"])`\n",
    "3. Train the model on train data by calling `model.fit(x = ..., y = ..., epochs = ..., batch_size = ...)`\n",
    "4. Test the model on test data by calling `model.evaluate(x = ..., y = ...)`\n",
    "\n",
    "If you want to know more about `model.compile()`, `model.fit()`, `model.evaluate()` and their arguments, refer to the official [Keras documentation](https://keras.io/models/model/).\n",
    "\n",
    "**Exercise**: Implement step 1, i.e. create the model."
   ]
  },
  {
   "cell_type": "code",
   "execution_count": 21,
   "metadata": {
    "collapsed": true
   },
   "outputs": [],
   "source": [
    "### START CODE HERE ### (1 line)\n",
    "happyModel = HappyModel(X_train.shape[1:])\n",
    "### END CODE HERE ###"
   ]
  },
  {
   "cell_type": "markdown",
   "metadata": {},
   "source": [
    "**Exercise**: Implement step 2, i.e. compile the model to configure the learning process. Choose the 3 arguments of `compile()` wisely. Hint: the Happy Challenge is a binary classification problem."
   ]
  },
  {
   "cell_type": "code",
   "execution_count": 23,
   "metadata": {
    "collapsed": true
   },
   "outputs": [],
   "source": [
    "### START CODE HERE ### (1 line)\n",
    "\n",
    "# For a binary classification problem\n",
    "happyModel.compile(optimizer=\"adam\",loss=\"binary_crossentropy\",metrics=['accuracy'])\n",
    "### END CODE HERE ###"
   ]
  },
  {
   "cell_type": "markdown",
   "metadata": {},
   "source": [
    "**Exercise**: Implement step 3, i.e. train the model. Choose the number of epochs and the batch size."
   ]
  },
  {
   "cell_type": "code",
   "execution_count": 27,
   "metadata": {},
   "outputs": [
    {
     "name": "stdout",
     "output_type": "stream",
     "text": [
      "Epoch 1/10\n",
      "600/600 [==============================] - 11s - loss: 0.0680 - acc: 0.9783    \n",
      "Epoch 2/10\n",
      "600/600 [==============================] - 11s - loss: 0.0735 - acc: 0.9783    \n",
      "Epoch 3/10\n",
      "600/600 [==============================] - 11s - loss: 0.0873 - acc: 0.9717    \n",
      "Epoch 4/10\n",
      "600/600 [==============================] - 12s - loss: 0.1332 - acc: 0.9483    \n",
      "Epoch 5/10\n",
      "600/600 [==============================] - 11s - loss: 0.1024 - acc: 0.9617    \n",
      "Epoch 6/10\n",
      "600/600 [==============================] - 11s - loss: 0.0420 - acc: 0.9867    \n",
      "Epoch 7/10\n",
      "600/600 [==============================] - 11s - loss: 0.0352 - acc: 0.9950    \n",
      "Epoch 8/10\n",
      "600/600 [==============================] - 11s - loss: 0.0674 - acc: 0.9783    \n",
      "Epoch 9/10\n",
      "600/600 [==============================] - 11s - loss: 0.0446 - acc: 0.9883    \n",
      "Epoch 10/10\n",
      "600/600 [==============================] - 11s - loss: 0.0447 - acc: 0.9900    \n"
     ]
    },
    {
     "data": {
      "text/plain": [
       "<keras.callbacks.History at 0x7f9fec79b128>"
      ]
     },
     "execution_count": 27,
     "metadata": {},
     "output_type": "execute_result"
    }
   ],
   "source": [
    "### START CODE HERE ### (1 line)\n",
    "happyModel.fit(x=X_train,y=Y_train,epochs=10,batch_size=32)\n",
    "### END CODE HERE ###"
   ]
  },
  {
   "cell_type": "markdown",
   "metadata": {},
   "source": [
    "Note that if you run `fit()` again, the `model` will continue to train with the parameters it has already learnt instead of reinitializing them.\n",
    "\n",
    "**Exercise**: Implement step 4, i.e. test/evaluate the model."
   ]
  },
  {
   "cell_type": "code",
   "execution_count": 28,
   "metadata": {
    "scrolled": true
   },
   "outputs": [
    {
     "name": "stdout",
     "output_type": "stream",
     "text": [
      "150/150 [==============================] - 1s     \n",
      "\n",
      "Loss = 0.13420773685\n",
      "Test Accuracy = 0.933333337307\n"
     ]
    }
   ],
   "source": [
    "### START CODE HERE ### (1 line)\n",
    "preds = happyModel.evaluate(x=X_test,y=Y_test)\n",
    "### END CODE HERE ###\n",
    "print()\n",
    "print (\"Loss = \" + str(preds[0]))\n",
    "print (\"Test Accuracy = \" + str(preds[1]))"
   ]
  },
  {
   "cell_type": "markdown",
   "metadata": {},
   "source": [
    "If your `happyModel()` function worked, you should have observed much better than random-guessing (50%) accuracy on the train and test sets.\n",
    "\n",
    "To give you a point of comparison, our model gets around **95% test accuracy in 40 epochs** (and 99% train accuracy) with a mini batch size of 16 and \"adam\" optimizer. But our model gets decent accuracy after just 2-5 epochs, so if you're comparing different models you can also train a variety of models on just a few epochs and see how they compare. \n",
    "\n",
    "If you have not yet achieved a very good accuracy (let's say more than 80%), here're some things you can play around with to try to achieve it:\n",
    "\n",
    "- Try using blocks of CONV->BATCHNORM->RELU such as:\n",
    "```python\n",
    "X = Conv2D(32, (3, 3), strides = (1, 1), name = 'conv0')(X)\n",
    "X = BatchNormalization(axis = 3, name = 'bn0')(X)\n",
    "X = Activation('relu')(X)\n",
    "```\n",
    "until your height and width dimensions are quite low and your number of channels quite large (≈32 for example). You are encoding useful information in a volume with a lot of channels. You can then flatten the volume and use a fully-connected layer.\n",
    "- You can use MAXPOOL after such blocks. It will help you lower the dimension in height and width.\n",
    "- Change your optimizer. We find Adam works well. \n",
    "- If the model is struggling to run and you get memory issues, lower your batch_size (12 is usually a good compromise)\n",
    "- Run on more epochs, until you see the train accuracy plateauing. \n",
    "\n",
    "Even if you have achieved a good accuracy, please feel free to keep playing with your model to try to get even better results. \n",
    "\n",
    "**Note**: If you perform hyperparameter tuning on your model, the test set actually becomes a dev set, and your model might end up overfitting to the test (dev) set. But just for the purpose of this assignment, we won't worry about that here.\n"
   ]
  },
  {
   "cell_type": "markdown",
   "metadata": {},
   "source": [
    "## 3 - Conclusion\n",
    "\n",
    "Congratulations, you have solved the Happy House challenge! \n",
    "\n",
    "Now, you just need to link this model to the front-door camera of your house. We unfortunately won't go into the details of how to do that here. "
   ]
  },
  {
   "cell_type": "markdown",
   "metadata": {},
   "source": [
    "<font color='blue'>\n",
    "**What we would like you to remember from this assignment:**\n",
    "- Keras is a tool we recommend for rapid prototyping. It allows you to quickly try out different model architectures. Are there any applications of deep learning to your daily life that you'd like to implement using Keras? \n",
    "- Remember how to code a model in Keras and the four steps leading to the evaluation of your model on the test set. Create->Compile->Fit/Train->Evaluate/Test."
   ]
  },
  {
   "cell_type": "markdown",
   "metadata": {},
   "source": [
    "## 4 - Test with your own image (Optional)\n",
    "\n",
    "Congratulations on finishing this assignment. You can now take a picture of your face and see if you could enter the Happy House. To do that:\n",
    "    1. Click on \"File\" in the upper bar of this notebook, then click \"Open\" to go on your Coursera Hub.\n",
    "    2. Add your image to this Jupyter Notebook's directory, in the \"images\" folder\n",
    "    3. Write your image's name in the following code\n",
    "    4. Run the code and check if the algorithm is right (0 is unhappy, 1 is happy)!\n",
    "    \n",
    "The training/test sets were quite similar; for example, all the pictures were taken against the same background (since a front door camera is always mounted in the same position). This makes the problem easier, but a model trained on this data may or may not work on your own data. But feel free to give it a try! "
   ]
  },
  {
   "cell_type": "code",
   "execution_count": 29,
   "metadata": {},
   "outputs": [
    {
     "name": "stdout",
     "output_type": "stream",
     "text": [
      "[[ 0.]]\n"
     ]
    },
    {
     "data": {
      "image/png": "[encoded data removed]",
      "text/plain": [
       "<matplotlib.figure.Figure at 0x7f9fec29cba8>"
      ]
     },
     "metadata": {},
     "output_type": "display_data"
    }
   ],
   "source": [
    "### START CODE HERE ###\n",
    "img_path = 'images/no_smile.jpg'\n",
    "### END CODE HERE ###\n",
    "img = image.load_img(img_path, target_size=(64, 64))\n",
    "imshow(img)\n",
    "\n",
    "x = image.img_to_array(img)\n",
    "x = np.expand_dims(x, axis=0)\n",
    "x = preprocess_input(x)\n",
    "\n",
    "print(happyModel.predict(x))"
   ]
  },
  {
   "cell_type": "code",
   "execution_count": 30,
   "metadata": {},
   "outputs": [
    {
     "name": "stdout",
     "output_type": "stream",
     "text": [
      "[[ 1.]]\n"
     ]
    },
    {
     "data": {
      "image/png": "[encoded data removed]",
      "text/plain": [
       "<matplotlib.figure.Figure at 0x7f9fec3899e8>"
      ]
     },
     "metadata": {},
     "output_type": "display_data"
    }
   ],
   "source": [
    "### START CODE HERE ###\n",
    "img_path = 'images/smile.jpg'\n",
    "### END CODE HERE ###\n",
    "img = image.load_img(img_path, target_size=(64, 64))\n",
    "imshow(img)\n",
    "\n",
    "x = image.img_to_array(img)\n",
    "x = np.expand_dims(x, axis=0)\n",
    "x = preprocess_input(x)\n",
    "\n",
    "print(happyModel.predict(x))"
   ]
  },
  {
   "cell_type": "markdown",
   "metadata": {},
   "source": [
    "## 5 - Other useful functions in Keras (Optional)\n",
    "\n",
    "Two other basic features of Keras that you'll find useful are:\n",
    "- `model.summary()`: prints the details of your layers in a table with the sizes of its inputs/outputs\n",
    "- `plot_model()`: plots your graph in a nice layout. You can even save it as \".png\" using SVG() if you'd like to share it on social media ;). It is saved in \"File\" then \"Open...\" in the upper bar of the notebook.\n",
    "\n",
    "Run the following code."
   ]
  },
  {
   "cell_type": "code",
   "execution_count": 32,
   "metadata": {
    "scrolled": false
   },
   "outputs": [
    {
     "name": "stdout",
     "output_type": "stream",
     "text": [
      "_________________________________________________________________\n",
      "Layer (type)                 Output Shape              Param #   \n",
      "=================================================================\n",
      "input_7 (InputLayer)         (None, 64, 64, 3)         0         \n",
      "_________________________________________________________________\n",
      "zero_padding2d_7 (ZeroPaddin (None, 70, 70, 3)         0         \n",
      "_________________________________________________________________\n",
      "conv0 (Conv2D)               (None, 64, 64, 32)        4736      \n",
      "_________________________________________________________________\n",
      "bn0 (BatchNormalization)     (None, 64, 64, 32)        128       \n",
      "_________________________________________________________________\n",
      "activation_6 (Activation)    (None, 64, 64, 32)        0         \n",
      "_________________________________________________________________\n",
      "max_pool (MaxPooling2D)      (None, 32, 32, 32)        0         \n",
      "_________________________________________________________________\n",
      "flatten_5 (Flatten)          (None, 32768)             0         \n",
      "_________________________________________________________________\n",
      "fc (Dense)                   (None, 1)                 32769     \n",
      "=================================================================\n",
      "Total params: 37,633\n",
      "Trainable params: 37,569\n",
      "Non-trainable params: 64\n",
      "_________________________________________________________________\n"
     ]
    }
   ],
   "source": [
    "happyModel.summary()"
   ]
  },
  {
   "cell_type": "code",
   "execution_count": 33,
   "metadata": {},
   "outputs": [
    {
     "data": {
      "image/svg+xml": [
       "<svg height=\"556pt\" viewBox=\"0.00 0.00 225.00 556.00\" width=\"225pt\" xmlns=\"http://www.w3.org/2000/svg\" xmlns:xlink=\"http://www.w3.org/1999/xlink\">\n",
       "<g class=\"graph\" id=\"graph0\" transform=\"scale(1 1) rotate(0) translate(4 552)\">\n",
       "<title>G</title>\n",
       "<polygon fill=\"white\" points=\"-4,4 -4,-552 221,-552 221,4 -4,4\" stroke=\"none\"/>\n",
       "<!-- 140324846268032 -->\n",
       "<g class=\"node\" id=\"node1\"><title>140324846268032</title>\n",
       "<polygon fill=\"none\" points=\"45.5,-511.5 45.5,-547.5 171.5,-547.5 171.5,-511.5 45.5,-511.5\" stroke=\"black\"/>\n",
       "<text font-family=\"Times,serif\" font-size=\"14.00\" text-anchor=\"middle\" x=\"108.5\" y=\"-525.8\">input_7: InputLayer</text>\n",
       "</g>\n",
       "<!-- 140324845442216 -->\n",
       "<g class=\"node\" id=\"node2\"><title>140324845442216</title>\n",
       "<polygon fill=\"none\" points=\"0,-438.5 0,-474.5 217,-474.5 217,-438.5 0,-438.5\" stroke=\"black\"/>\n",
       "<text font-family=\"Times,serif\" font-size=\"14.00\" text-anchor=\"middle\" x=\"108.5\" y=\"-452.8\">zero_padding2d_7: ZeroPadding2D</text>\n",
       "</g>\n",
       "<!-- 140324846268032&#45;&gt;140324845442216 -->\n",
       "<g class=\"edge\" id=\"edge1\"><title>140324846268032-&gt;140324845442216</title>\n",
       "<path d=\"M108.5,-511.313C108.5,-503.289 108.5,-493.547 108.5,-484.569\" fill=\"none\" stroke=\"black\"/>\n",
       "<polygon fill=\"black\" points=\"112,-484.529 108.5,-474.529 105,-484.529 112,-484.529\" stroke=\"black\"/>\n",
       "</g>\n",
       "<!-- 140324845442776 -->\n",
       "<g class=\"node\" id=\"node3\"><title>140324845442776</title>\n",
       "<polygon fill=\"none\" points=\"56,-365.5 56,-401.5 161,-401.5 161,-365.5 56,-365.5\" stroke=\"black\"/>\n",
       "<text font-family=\"Times,serif\" font-size=\"14.00\" text-anchor=\"middle\" x=\"108.5\" y=\"-379.8\">conv0: Conv2D</text>\n",
       "</g>\n",
       "<!-- 140324845442216&#45;&gt;140324845442776 -->\n",
       "<g class=\"edge\" id=\"edge2\"><title>140324845442216-&gt;140324845442776</title>\n",
       "<path d=\"M108.5,-438.313C108.5,-430.289 108.5,-420.547 108.5,-411.569\" fill=\"none\" stroke=\"black\"/>\n",
       "<polygon fill=\"black\" points=\"112,-411.529 108.5,-401.529 105,-411.529 112,-411.529\" stroke=\"black\"/>\n",
       "</g>\n",
       "<!-- 140324845444064 -->\n",
       "<g class=\"node\" id=\"node4\"><title>140324845444064</title>\n",
       "<polygon fill=\"none\" points=\"31.5,-292.5 31.5,-328.5 185.5,-328.5 185.5,-292.5 31.5,-292.5\" stroke=\"black\"/>\n",
       "<text font-family=\"Times,serif\" font-size=\"14.00\" text-anchor=\"middle\" x=\"108.5\" y=\"-306.8\">bn0: BatchNormalization</text>\n",
       "</g>\n",
       "<!-- 140324845442776&#45;&gt;140324845444064 -->\n",
       "<g class=\"edge\" id=\"edge3\"><title>140324845442776-&gt;140324845444064</title>\n",
       "<path d=\"M108.5,-365.313C108.5,-357.289 108.5,-347.547 108.5,-338.569\" fill=\"none\" stroke=\"black\"/>\n",
       "<polygon fill=\"black\" points=\"112,-338.529 108.5,-328.529 105,-338.529 112,-338.529\" stroke=\"black\"/>\n",
       "</g>\n",
       "<!-- 140324845532888 -->\n",
       "<g class=\"node\" id=\"node5\"><title>140324845532888</title>\n",
       "<polygon fill=\"none\" points=\"35,-219.5 35,-255.5 182,-255.5 182,-219.5 35,-219.5\" stroke=\"black\"/>\n",
       "<text font-family=\"Times,serif\" font-size=\"14.00\" text-anchor=\"middle\" x=\"108.5\" y=\"-233.8\">activation_6: Activation</text>\n",
       "</g>\n",
       "<!-- 140324845444064&#45;&gt;140324845532888 -->\n",
       "<g class=\"edge\" id=\"edge4\"><title>140324845444064-&gt;140324845532888</title>\n",
       "<path d=\"M108.5,-292.313C108.5,-284.289 108.5,-274.547 108.5,-265.569\" fill=\"none\" stroke=\"black\"/>\n",
       "<polygon fill=\"black\" points=\"112,-265.529 108.5,-255.529 105,-265.529 112,-265.529\" stroke=\"black\"/>\n",
       "</g>\n",
       "<!-- 140324845092592 -->\n",
       "<g class=\"node\" id=\"node6\"><title>140324845092592</title>\n",
       "<polygon fill=\"none\" points=\"26.5,-146.5 26.5,-182.5 190.5,-182.5 190.5,-146.5 26.5,-146.5\" stroke=\"black\"/>\n",
       "<text font-family=\"Times,serif\" font-size=\"14.00\" text-anchor=\"middle\" x=\"108.5\" y=\"-160.8\">max_pool: MaxPooling2D</text>\n",
       "</g>\n",
       "<!-- 140324845532888&#45;&gt;140324845092592 -->\n",
       "<g class=\"edge\" id=\"edge5\"><title>140324845532888-&gt;140324845092592</title>\n",
       "<path d=\"M108.5,-219.313C108.5,-211.289 108.5,-201.547 108.5,-192.569\" fill=\"none\" stroke=\"black\"/>\n",
       "<polygon fill=\"black\" points=\"112,-192.529 108.5,-182.529 105,-192.529 112,-192.529\" stroke=\"black\"/>\n",
       "</g>\n",
       "<!-- 140324845240672 -->\n",
       "<g class=\"node\" id=\"node7\"><title>140324845240672</title>\n",
       "<polygon fill=\"none\" points=\"54,-73.5 54,-109.5 163,-109.5 163,-73.5 54,-73.5\" stroke=\"black\"/>\n",
       "<text font-family=\"Times,serif\" font-size=\"14.00\" text-anchor=\"middle\" x=\"108.5\" y=\"-87.8\">flatten_5: Flatten</text>\n",
       "</g>\n",
       "<!-- 140324845092592&#45;&gt;140324845240672 -->\n",
       "<g class=\"edge\" id=\"edge6\"><title>140324845092592-&gt;140324845240672</title>\n",
       "<path d=\"M108.5,-146.313C108.5,-138.289 108.5,-128.547 108.5,-119.569\" fill=\"none\" stroke=\"black\"/>\n",
       "<polygon fill=\"black\" points=\"112,-119.529 108.5,-109.529 105,-119.529 112,-119.529\" stroke=\"black\"/>\n",
       "</g>\n",
       "<!-- 140324845242632 -->\n",
       "<g class=\"node\" id=\"node8\"><title>140324845242632</title>\n",
       "<polygon fill=\"none\" points=\"74,-0.5 74,-36.5 143,-36.5 143,-0.5 74,-0.5\" stroke=\"black\"/>\n",
       "<text font-family=\"Times,serif\" font-size=\"14.00\" text-anchor=\"middle\" x=\"108.5\" y=\"-14.8\">fc: Dense</text>\n",
       "</g>\n",
       "<!-- 140324845240672&#45;&gt;140324845242632 -->\n",
       "<g class=\"edge\" id=\"edge7\"><title>140324845240672-&gt;140324845242632</title>\n",
       "<path d=\"M108.5,-73.3129C108.5,-65.2895 108.5,-55.5475 108.5,-46.5691\" fill=\"none\" stroke=\"black\"/>\n",
       "<polygon fill=\"black\" points=\"112,-46.5288 108.5,-36.5288 105,-46.5289 112,-46.5288\" stroke=\"black\"/>\n",
       "</g>\n",
       "</g>\n",
       "</svg>"
      ],
      "text/plain": [
       "<IPython.core.display.SVG object>"
      ]
     },
     "execution_count": 33,
     "metadata": {},
     "output_type": "execute_result"
    }
   ],
   "source": [
    "plot_model(happyModel, to_file='HappyModel.png')\n",
    "SVG(model_to_dot(happyModel).create(prog='dot', format='svg'))"
   ]
  },
  {
   "cell_type": "code",
   "execution_count": 5,
   "metadata": {},
   "outputs": [
    {
     "name": "stdout",
     "output_type": "stream",
     "text": [
      "<function concatenate at 0x7f5a5b4b4510>\n"
     ]
    }
   ],
   "source": [
    "import keras as K\n",
    "print(K.layers.concatenate)\n",
    "from keras import regularizers"
   ]
  },
  {
   "cell_type": "code",
   "execution_count": 20,
   "metadata": {},
   "outputs": [],
   "source": [
    "#Experiments on some ideas or with new architecture.\n",
    "# GRADED FUNCTION: HappyModel\n",
    "\n",
    "def HappyModel3(input_shape):\n",
    "    \"\"\"\n",
    "    Implementation of the HappyModel.\n",
    "    \n",
    "    Arguments:\n",
    "    input_shape -- shape of the images of the dataset\n",
    "\n",
    "    Returns:\n",
    "    model -- a Model() instance in Keras\n",
    "    \"\"\"\n",
    "    \n",
    "    ### START CODE HERE ###\n",
    "    # Feel free to use the suggested outline in the text above to get started, and run through the whole\n",
    "    # exercise (including the later portions of this notebook) once. The come back also try out other\n",
    "    # network architectures as well. \n",
    "    #1.define the input placeholder\n",
    "    X_input=Input(input_shape)\n",
    "    #CONV-->RELU Block applied to X\n",
    "    X1=Conv2D(10,(1,1),strides=(1,1),padding=\"same\",\n",
    "              kernel_regularizer=regularizers.l2(0.001),name=\"conv1.1\")(X_input) #[None,64,64,10]\n",
    "    X2=Conv2D(10,(3,3),strides=(1,1),padding=\"same\",\n",
    "              kernel_regularizer=regularizers.l2(0.001),name=\"conv1.2\")(X_input) #[None,64,64,10]\n",
    "    X3=Conv2D(10,(5,5),strides=(1,1),padding=\"same\",\n",
    "              kernel_regularizer=regularizers.l2(0.001),name=\"conv1.3\")(X_input) #[None,64,64,10]\n",
    "    X=K.layers.concatenate([X1,X2,X3],axis=3) #[None,64,64,30]\n",
    "    X=Activation('relu')(X) #[None,64,64,30] \n",
    "    #MAXPOOL\n",
    "    X=MaxPooling2D((2,2),name='max_pool1')(X) #[None,32,32,30]\n",
    "    \n",
    "    X=Conv2D(64,(3,3),strides=(1,1),padding=\"same\",name=\"conv2\")(X) #[None,32,32,64]\n",
    "    X=Activation('relu')(X) #[None,32,32,64]\n",
    "    X=MaxPooling2D((2,2),name='max_pool2')(X) #[None,16,16,64]\n",
    "    \n",
    "    #FLATTEN-->FC X\n",
    "    X=Flatten()(X) #[None,16*16*64]\n",
    "    \n",
    "    X=Dense(32,kernel_regularizer=regularizers.l2(0.001),name=\"fc3\")(X) #[None,32]\n",
    "    X=BatchNormalization(axis=1,name='bn0')(X) #[None,32]\n",
    "    X=Activation('relu')(X)  #[None,32]\n",
    "    X=Dense(1,activation='sigmoid',kernel_regularizer=regularizers.l2(0.001),name='fc4')(X) #[None,1]\n",
    "    \n",
    "    #6.Create model.\n",
    "    model=Model(inputs=X_input, outputs=X,name='HappyModel3')\n",
    "    \n",
    "    \n",
    "    ### END CODE HERE ###\n",
    "    \n",
    "    return model"
   ]
  },
  {
   "cell_type": "code",
   "execution_count": 21,
   "metadata": {},
   "outputs": [
    {
     "name": "stdout",
     "output_type": "stream",
     "text": [
      "Epoch 1/10\n",
      "600/600 [==============================] - 9s - loss: 0.4748 - acc: 0.8383     \n",
      "Epoch 2/10\n",
      "600/600 [==============================] - 9s - loss: 0.2513 - acc: 0.9533     \n",
      "Epoch 3/10\n",
      "600/600 [==============================] - 9s - loss: 0.1778 - acc: 0.9750     \n",
      "Epoch 4/10\n",
      "600/600 [==============================] - 9s - loss: 0.1519 - acc: 0.9850     \n",
      "Epoch 5/10\n",
      "600/600 [==============================] - 9s - loss: 0.1365 - acc: 0.9883     \n",
      "Epoch 6/10\n",
      "600/600 [==============================] - 9s - loss: 0.1279 - acc: 0.9900     \n",
      "Epoch 7/10\n",
      "600/600 [==============================] - 9s - loss: 0.1186 - acc: 0.9900     \n",
      "Epoch 8/10\n",
      "600/600 [==============================] - 9s - loss: 0.1080 - acc: 0.9900     \n",
      "Epoch 9/10\n",
      "600/600 [==============================] - 9s - loss: 0.1008 - acc: 0.9917     \n",
      "Epoch 10/10\n",
      "600/600 [==============================] - 9s - loss: 0.0860 - acc: 0.9967     \n"
     ]
    },
    {
     "data": {
      "text/plain": [
       "<keras.callbacks.History at 0x7f5a589acb70>"
      ]
     },
     "execution_count": 21,
     "metadata": {},
     "output_type": "execute_result"
    }
   ],
   "source": [
    "# create model.\n",
    "happyModel3 = HappyModel3(X_train.shape[1:])\n",
    "\n",
    "# compile model\n",
    "happyModel3.compile(optimizer=\"adam\",loss=\"binary_crossentropy\",metrics=['accuracy'])\n",
    "\n",
    "# train\n",
    "happyModel3.fit(x=X_train,y=Y_train,epochs=10,batch_size=32)"
   ]
  },
  {
   "cell_type": "code",
   "execution_count": 22,
   "metadata": {},
   "outputs": [
    {
     "name": "stdout",
     "output_type": "stream",
     "text": [
      "150/150 [==============================] - 0s     \n",
      "\n",
      "Loss = 0.311979378462\n",
      "Test Accuracy = 0.973333330949\n"
     ]
    }
   ],
   "source": [
    "# predict\n",
    "preds = happyModel3.evaluate(x=X_test,y=Y_test)\n",
    "print()\n",
    "print (\"Loss = \" + str(preds[0]))\n",
    "print (\"Test Accuracy = \" + str(preds[1]))"
   ]
  },
  {
   "cell_type": "code",
   "execution_count": 23,
   "metadata": {},
   "outputs": [
    {
     "name": "stdout",
     "output_type": "stream",
     "text": [
      "____________________________________________________________________________________________________\n",
      "Layer (type)                     Output Shape          Param #     Connected to                     \n",
      "====================================================================================================\n",
      "input_8 (InputLayer)             (None, 64, 64, 3)     0                                            \n",
      "____________________________________________________________________________________________________\n",
      "conv1.1 (Conv2D)                 (None, 64, 64, 10)    40          input_8[0][0]                    \n",
      "____________________________________________________________________________________________________\n",
      "conv1.2 (Conv2D)                 (None, 64, 64, 10)    280         input_8[0][0]                    \n",
      "____________________________________________________________________________________________________\n",
      "conv1.3 (Conv2D)                 (None, 64, 64, 10)    760         input_8[0][0]                    \n",
      "____________________________________________________________________________________________________\n",
      "concatenate_7 (Concatenate)      (None, 64, 64, 30)    0           conv1.1[0][0]                    \n",
      "                                                                   conv1.2[0][0]                    \n",
      "                                                                   conv1.3[0][0]                    \n",
      "____________________________________________________________________________________________________\n",
      "activation_14 (Activation)       (None, 64, 64, 30)    0           concatenate_7[0][0]              \n",
      "____________________________________________________________________________________________________\n",
      "max_pool1 (MaxPooling2D)         (None, 32, 32, 30)    0           activation_14[0][0]              \n",
      "____________________________________________________________________________________________________\n",
      "conv2 (Conv2D)                   (None, 32, 32, 64)    17344       max_pool1[0][0]                  \n",
      "____________________________________________________________________________________________________\n",
      "activation_15 (Activation)       (None, 32, 32, 64)    0           conv2[0][0]                      \n",
      "____________________________________________________________________________________________________\n",
      "max_pool2 (MaxPooling2D)         (None, 16, 16, 64)    0           activation_15[0][0]              \n",
      "____________________________________________________________________________________________________\n",
      "flatten_2 (Flatten)              (None, 16384)         0           max_pool2[0][0]                  \n",
      "____________________________________________________________________________________________________\n",
      "fc3 (Dense)                      (None, 32)            524320      flatten_2[0][0]                  \n",
      "____________________________________________________________________________________________________\n",
      "bn0 (BatchNormalization)         (None, 32)            128         fc3[0][0]                        \n",
      "____________________________________________________________________________________________________\n",
      "activation_16 (Activation)       (None, 32)            0           bn0[0][0]                        \n",
      "____________________________________________________________________________________________________\n",
      "fc4 (Dense)                      (None, 1)             33          activation_16[0][0]              \n",
      "====================================================================================================\n",
      "Total params: 542,905\n",
      "Trainable params: 542,841\n",
      "Non-trainable params: 64\n",
      "____________________________________________________________________________________________________\n"
     ]
    }
   ],
   "source": [
    "happyModel3.summary()"
   ]
  },
  {
   "cell_type": "code",
   "execution_count": 24,
   "metadata": {},
   "outputs": [
    {
     "data": {
      "image/svg+xml": [
       "<svg height=\"921pt\" viewBox=\"0.00 0.00 392.00 921.00\" width=\"392pt\" xmlns=\"http://www.w3.org/2000/svg\" xmlns:xlink=\"http://www.w3.org/1999/xlink\">\n",
       "<g class=\"graph\" id=\"graph0\" transform=\"scale(1 1) rotate(0) translate(4 917)\">\n",
       "<title>G</title>\n",
       "<polygon fill=\"white\" points=\"-4,4 -4,-917 388,-917 388,4 -4,4\" stroke=\"none\"/>\n",
       "<!-- 140026011839624 -->\n",
       "<g class=\"node\" id=\"node1\"><title>140026011839624</title>\n",
       "<polygon fill=\"none\" points=\"129,-876.5 129,-912.5 255,-912.5 255,-876.5 129,-876.5\" stroke=\"black\"/>\n",
       "<text font-family=\"Times,serif\" font-size=\"14.00\" text-anchor=\"middle\" x=\"192\" y=\"-890.8\">input_8: InputLayer</text>\n",
       "</g>\n",
       "<!-- 140026011840464 -->\n",
       "<g class=\"node\" id=\"node2\"><title>140026011840464</title>\n",
       "<polygon fill=\"none\" points=\"0,-803.5 0,-839.5 116,-839.5 116,-803.5 0,-803.5\" stroke=\"black\"/>\n",
       "<text font-family=\"Times,serif\" font-size=\"14.00\" text-anchor=\"middle\" x=\"58\" y=\"-817.8\">conv1.1: Conv2D</text>\n",
       "</g>\n",
       "<!-- 140026011839624&#45;&gt;140026011840464 -->\n",
       "<g class=\"edge\" id=\"edge1\"><title>140026011839624-&gt;140026011840464</title>\n",
       "<path d=\"M159.904,-876.494C141.723,-866.861 118.785,-854.707 99.2767,-844.37\" fill=\"none\" stroke=\"black\"/>\n",
       "<polygon fill=\"black\" points=\"100.774,-841.203 90.2989,-839.614 97.4965,-847.388 100.774,-841.203\" stroke=\"black\"/>\n",
       "</g>\n",
       "<!-- 140026012272680 -->\n",
       "<g class=\"node\" id=\"node3\"><title>140026012272680</title>\n",
       "<polygon fill=\"none\" points=\"134,-803.5 134,-839.5 250,-839.5 250,-803.5 134,-803.5\" stroke=\"black\"/>\n",
       "<text font-family=\"Times,serif\" font-size=\"14.00\" text-anchor=\"middle\" x=\"192\" y=\"-817.8\">conv1.2: Conv2D</text>\n",
       "</g>\n",
       "<!-- 140026011839624&#45;&gt;140026012272680 -->\n",
       "<g class=\"edge\" id=\"edge2\"><title>140026011839624-&gt;140026012272680</title>\n",
       "<path d=\"M192,-876.313C192,-868.289 192,-858.547 192,-849.569\" fill=\"none\" stroke=\"black\"/>\n",
       "<polygon fill=\"black\" points=\"195.5,-849.529 192,-839.529 188.5,-849.529 195.5,-849.529\" stroke=\"black\"/>\n",
       "</g>\n",
       "<!-- 140026011651880 -->\n",
       "<g class=\"node\" id=\"node4\"><title>140026011651880</title>\n",
       "<polygon fill=\"none\" points=\"268,-803.5 268,-839.5 384,-839.5 384,-803.5 268,-803.5\" stroke=\"black\"/>\n",
       "<text font-family=\"Times,serif\" font-size=\"14.00\" text-anchor=\"middle\" x=\"326\" y=\"-817.8\">conv1.3: Conv2D</text>\n",
       "</g>\n",
       "<!-- 140026011839624&#45;&gt;140026011651880 -->\n",
       "<g class=\"edge\" id=\"edge3\"><title>140026011839624-&gt;140026011651880</title>\n",
       "<path d=\"M224.096,-876.494C242.277,-866.861 265.215,-854.707 284.723,-844.37\" fill=\"none\" stroke=\"black\"/>\n",
       "<polygon fill=\"black\" points=\"286.504,-847.388 293.701,-839.614 283.226,-841.203 286.504,-847.388\" stroke=\"black\"/>\n",
       "</g>\n",
       "<!-- 140026011307368 -->\n",
       "<g class=\"node\" id=\"node5\"><title>140026011307368</title>\n",
       "<polygon fill=\"none\" points=\"105.5,-730.5 105.5,-766.5 278.5,-766.5 278.5,-730.5 105.5,-730.5\" stroke=\"black\"/>\n",
       "<text font-family=\"Times,serif\" font-size=\"14.00\" text-anchor=\"middle\" x=\"192\" y=\"-744.8\">concatenate_7: Concatenate</text>\n",
       "</g>\n",
       "<!-- 140026011840464&#45;&gt;140026011307368 -->\n",
       "<g class=\"edge\" id=\"edge4\"><title>140026011840464-&gt;140026011307368</title>\n",
       "<path d=\"M90.0963,-803.494C108.277,-793.861 131.215,-781.707 150.723,-771.37\" fill=\"none\" stroke=\"black\"/>\n",
       "<polygon fill=\"black\" points=\"152.504,-774.388 159.701,-766.614 149.226,-768.203 152.504,-774.388\" stroke=\"black\"/>\n",
       "</g>\n",
       "<!-- 140026012272680&#45;&gt;140026011307368 -->\n",
       "<g class=\"edge\" id=\"edge5\"><title>140026012272680-&gt;140026011307368</title>\n",
       "<path d=\"M192,-803.313C192,-795.289 192,-785.547 192,-776.569\" fill=\"none\" stroke=\"black\"/>\n",
       "<polygon fill=\"black\" points=\"195.5,-776.529 192,-766.529 188.5,-776.529 195.5,-776.529\" stroke=\"black\"/>\n",
       "</g>\n",
       "<!-- 140026011651880&#45;&gt;140026011307368 -->\n",
       "<g class=\"edge\" id=\"edge6\"><title>140026011651880-&gt;140026011307368</title>\n",
       "<path d=\"M293.904,-803.494C275.723,-793.861 252.785,-781.707 233.277,-771.37\" fill=\"none\" stroke=\"black\"/>\n",
       "<polygon fill=\"black\" points=\"234.774,-768.203 224.299,-766.614 231.496,-774.388 234.774,-768.203\" stroke=\"black\"/>\n",
       "</g>\n",
       "<!-- 140026011395464 -->\n",
       "<g class=\"node\" id=\"node6\"><title>140026011395464</title>\n",
       "<polygon fill=\"none\" points=\"115,-657.5 115,-693.5 269,-693.5 269,-657.5 115,-657.5\" stroke=\"black\"/>\n",
       "<text font-family=\"Times,serif\" font-size=\"14.00\" text-anchor=\"middle\" x=\"192\" y=\"-671.8\">activation_14: Activation</text>\n",
       "</g>\n",
       "<!-- 140026011307368&#45;&gt;140026011395464 -->\n",
       "<g class=\"edge\" id=\"edge7\"><title>140026011307368-&gt;140026011395464</title>\n",
       "<path d=\"M192,-730.313C192,-722.289 192,-712.547 192,-703.569\" fill=\"none\" stroke=\"black\"/>\n",
       "<polygon fill=\"black\" points=\"195.5,-703.529 192,-693.529 188.5,-703.529 195.5,-703.529\" stroke=\"black\"/>\n",
       "</g>\n",
       "<!-- 140026011394904 -->\n",
       "<g class=\"node\" id=\"node7\"><title>140026011394904</title>\n",
       "<polygon fill=\"none\" points=\"107,-584.5 107,-620.5 277,-620.5 277,-584.5 107,-584.5\" stroke=\"black\"/>\n",
       "<text font-family=\"Times,serif\" font-size=\"14.00\" text-anchor=\"middle\" x=\"192\" y=\"-598.8\">max_pool1: MaxPooling2D</text>\n",
       "</g>\n",
       "<!-- 140026011395464&#45;&gt;140026011394904 -->\n",
       "<g class=\"edge\" id=\"edge8\"><title>140026011395464-&gt;140026011394904</title>\n",
       "<path d=\"M192,-657.313C192,-649.289 192,-639.547 192,-630.569\" fill=\"none\" stroke=\"black\"/>\n",
       "<polygon fill=\"black\" points=\"195.5,-630.529 192,-620.529 188.5,-630.529 195.5,-630.529\" stroke=\"black\"/>\n",
       "</g>\n",
       "<!-- 140026011064416 -->\n",
       "<g class=\"node\" id=\"node8\"><title>140026011064416</title>\n",
       "<polygon fill=\"none\" points=\"139.5,-511.5 139.5,-547.5 244.5,-547.5 244.5,-511.5 139.5,-511.5\" stroke=\"black\"/>\n",
       "<text font-family=\"Times,serif\" font-size=\"14.00\" text-anchor=\"middle\" x=\"192\" y=\"-525.8\">conv2: Conv2D</text>\n",
       "</g>\n",
       "<!-- 140026011394904&#45;&gt;140026011064416 -->\n",
       "<g class=\"edge\" id=\"edge9\"><title>140026011394904-&gt;140026011064416</title>\n",
       "<path d=\"M192,-584.313C192,-576.289 192,-566.547 192,-557.569\" fill=\"none\" stroke=\"black\"/>\n",
       "<polygon fill=\"black\" points=\"195.5,-557.529 192,-547.529 188.5,-557.529 195.5,-557.529\" stroke=\"black\"/>\n",
       "</g>\n",
       "<!-- 140026011066208 -->\n",
       "<g class=\"node\" id=\"node9\"><title>140026011066208</title>\n",
       "<polygon fill=\"none\" points=\"115,-438.5 115,-474.5 269,-474.5 269,-438.5 115,-438.5\" stroke=\"black\"/>\n",
       "<text font-family=\"Times,serif\" font-size=\"14.00\" text-anchor=\"middle\" x=\"192\" y=\"-452.8\">activation_15: Activation</text>\n",
       "</g>\n",
       "<!-- 140026011064416&#45;&gt;140026011066208 -->\n",
       "<g class=\"edge\" id=\"edge10\"><title>140026011064416-&gt;140026011066208</title>\n",
       "<path d=\"M192,-511.313C192,-503.289 192,-493.547 192,-484.569\" fill=\"none\" stroke=\"black\"/>\n",
       "<polygon fill=\"black\" points=\"195.5,-484.529 192,-474.529 188.5,-484.529 195.5,-484.529\" stroke=\"black\"/>\n",
       "</g>\n",
       "<!-- 140026011149032 -->\n",
       "<g class=\"node\" id=\"node10\"><title>140026011149032</title>\n",
       "<polygon fill=\"none\" points=\"107,-365.5 107,-401.5 277,-401.5 277,-365.5 107,-365.5\" stroke=\"black\"/>\n",
       "<text font-family=\"Times,serif\" font-size=\"14.00\" text-anchor=\"middle\" x=\"192\" y=\"-379.8\">max_pool2: MaxPooling2D</text>\n",
       "</g>\n",
       "<!-- 140026011066208&#45;&gt;140026011149032 -->\n",
       "<g class=\"edge\" id=\"edge11\"><title>140026011066208-&gt;140026011149032</title>\n",
       "<path d=\"M192,-438.313C192,-430.289 192,-420.547 192,-411.569\" fill=\"none\" stroke=\"black\"/>\n",
       "<polygon fill=\"black\" points=\"195.5,-411.529 192,-401.529 188.5,-411.529 195.5,-411.529\" stroke=\"black\"/>\n",
       "</g>\n",
       "<!-- 140026011148528 -->\n",
       "<g class=\"node\" id=\"node11\"><title>140026011148528</title>\n",
       "<polygon fill=\"none\" points=\"137.5,-292.5 137.5,-328.5 246.5,-328.5 246.5,-292.5 137.5,-292.5\" stroke=\"black\"/>\n",
       "<text font-family=\"Times,serif\" font-size=\"14.00\" text-anchor=\"middle\" x=\"192\" y=\"-306.8\">flatten_2: Flatten</text>\n",
       "</g>\n",
       "<!-- 140026011149032&#45;&gt;140026011148528 -->\n",
       "<g class=\"edge\" id=\"edge12\"><title>140026011149032-&gt;140026011148528</title>\n",
       "<path d=\"M192,-365.313C192,-357.289 192,-347.547 192,-338.569\" fill=\"none\" stroke=\"black\"/>\n",
       "<polygon fill=\"black\" points=\"195.5,-338.529 192,-328.529 188.5,-338.529 195.5,-338.529\" stroke=\"black\"/>\n",
       "</g>\n",
       "<!-- 140026011229096 -->\n",
       "<g class=\"node\" id=\"node12\"><title>140026011229096</title>\n",
       "<polygon fill=\"none\" points=\"154,-219.5 154,-255.5 230,-255.5 230,-219.5 154,-219.5\" stroke=\"black\"/>\n",
       "<text font-family=\"Times,serif\" font-size=\"14.00\" text-anchor=\"middle\" x=\"192\" y=\"-233.8\">fc3: Dense</text>\n",
       "</g>\n",
       "<!-- 140026011148528&#45;&gt;140026011229096 -->\n",
       "<g class=\"edge\" id=\"edge13\"><title>140026011148528-&gt;140026011229096</title>\n",
       "<path d=\"M192,-292.313C192,-284.289 192,-274.547 192,-265.569\" fill=\"none\" stroke=\"black\"/>\n",
       "<polygon fill=\"black\" points=\"195.5,-265.529 192,-255.529 188.5,-265.529 195.5,-265.529\" stroke=\"black\"/>\n",
       "</g>\n",
       "<!-- 140026010781960 -->\n",
       "<g class=\"node\" id=\"node13\"><title>140026010781960</title>\n",
       "<polygon fill=\"none\" points=\"115,-146.5 115,-182.5 269,-182.5 269,-146.5 115,-146.5\" stroke=\"black\"/>\n",
       "<text font-family=\"Times,serif\" font-size=\"14.00\" text-anchor=\"middle\" x=\"192\" y=\"-160.8\">bn0: BatchNormalization</text>\n",
       "</g>\n",
       "<!-- 140026011229096&#45;&gt;140026010781960 -->\n",
       "<g class=\"edge\" id=\"edge14\"><title>140026011229096-&gt;140026010781960</title>\n",
       "<path d=\"M192,-219.313C192,-211.289 192,-201.547 192,-192.569\" fill=\"none\" stroke=\"black\"/>\n",
       "<polygon fill=\"black\" points=\"195.5,-192.529 192,-182.529 188.5,-192.529 195.5,-192.529\" stroke=\"black\"/>\n",
       "</g>\n",
       "<!-- 140026010781736 -->\n",
       "<g class=\"node\" id=\"node14\"><title>140026010781736</title>\n",
       "<polygon fill=\"none\" points=\"115,-73.5 115,-109.5 269,-109.5 269,-73.5 115,-73.5\" stroke=\"black\"/>\n",
       "<text font-family=\"Times,serif\" font-size=\"14.00\" text-anchor=\"middle\" x=\"192\" y=\"-87.8\">activation_16: Activation</text>\n",
       "</g>\n",
       "<!-- 140026010781960&#45;&gt;140026010781736 -->\n",
       "<g class=\"edge\" id=\"edge15\"><title>140026010781960-&gt;140026010781736</title>\n",
       "<path d=\"M192,-146.313C192,-138.289 192,-128.547 192,-119.569\" fill=\"none\" stroke=\"black\"/>\n",
       "<polygon fill=\"black\" points=\"195.5,-119.529 192,-109.529 188.5,-119.529 195.5,-119.529\" stroke=\"black\"/>\n",
       "</g>\n",
       "<!-- 140026010987208 -->\n",
       "<g class=\"node\" id=\"node15\"><title>140026010987208</title>\n",
       "<polygon fill=\"none\" points=\"154,-0.5 154,-36.5 230,-36.5 230,-0.5 154,-0.5\" stroke=\"black\"/>\n",
       "<text font-family=\"Times,serif\" font-size=\"14.00\" text-anchor=\"middle\" x=\"192\" y=\"-14.8\">fc4: Dense</text>\n",
       "</g>\n",
       "<!-- 140026010781736&#45;&gt;140026010987208 -->\n",
       "<g class=\"edge\" id=\"edge16\"><title>140026010781736-&gt;140026010987208</title>\n",
       "<path d=\"M192,-73.3129C192,-65.2895 192,-55.5475 192,-46.5691\" fill=\"none\" stroke=\"black\"/>\n",
       "<polygon fill=\"black\" points=\"195.5,-46.5288 192,-36.5288 188.5,-46.5289 195.5,-46.5288\" stroke=\"black\"/>\n",
       "</g>\n",
       "</g>\n",
       "</svg>"
      ],
      "text/plain": [
       "<IPython.core.display.SVG object>"
      ]
     },
     "execution_count": 24,
     "metadata": {},
     "output_type": "execute_result"
    }
   ],
   "source": [
    "plot_model(happyModel3, to_file='HappyModel3.png')\n",
    "SVG(model_to_dot(happyModel3).create(prog='dot', format='svg'))"
   ]
  },
  {
   "cell_type": "code",
   "execution_count": null,
   "metadata": {
    "collapsed": true
   },
   "outputs": [],
   "source": []
  }
 ],
 "metadata": {
  "kernelspec": {
   "display_name": "Python 3",
   "language": "python",
   "name": "python3"
  },
  "language_info": {
   "codemirror_mode": {
    "name": "ipython",
    "version": 3
   },
   "file_extension": ".py",
   "mimetype": "text/x-python",
   "name": "python",
   "nbconvert_exporter": "python",
   "pygments_lexer": "ipython3",
   "version": "3.6.0"
  }
 },
 "nbformat": 4,
 "nbformat_minor": 2
}
